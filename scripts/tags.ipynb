{
 "cells": [
  {
   "cell_type": "code",
   "execution_count": 6,
   "metadata": {},
   "outputs": [],
   "source": [
    "import pandas as pd\n",
    "\n",
    "df = pd.read_csv('tags.csv')\n",
    "# Eliminamos las columnas de los timestamps\n",
    "df = df.dropna(axis=1, how='all')"
   ]
  },
  {
   "cell_type": "code",
   "execution_count": 7,
   "metadata": {},
   "outputs": [
    {
     "name": "stdout",
     "output_type": "stream",
     "text": [
      "Competence\n",
      "prim_shapes        72\n",
      "scale_shapes       72\n",
      "snapshots          72\n",
      "cam_perspective    72\n",
      "action_seq         72\n",
      "rotation           72\n",
      "locate_shapes      72\n",
      "Name: count, dtype: int64\n",
      "        Group            User                 Level  conteo\n",
      "0   EloiseauA      BubbleBops   45-Degree Rotations       7\n",
      "36      VeraB          Wuduju              Pi Henge       7\n",
      "37      VeraB          Wuduju  Pyramids are Strange       7\n",
      "38      VeraB     engineer217   45-Degree Rotations       7\n",
      "39      VeraB     engineer217     Angled Silhouette       7\n",
      "..        ...             ...                   ...     ...\n",
      "24  EloiseauA  purple_panther              Pi Henge       7\n",
      "68      VeraD          redbed  Pyramids are Strange       7\n",
      "67      VeraD          redbed              Pi Henge      14\n",
      "65      VeraD          redbed   45-Degree Rotations      14\n",
      "66      VeraD          redbed              Bird Fez      14\n",
      "\n",
      "[69 rows x 4 columns]\n"
     ]
    }
   ],
   "source": [
    "#Contamos cuántas veces aparece cada etiqueta\n",
    "tag_count = df['Competence'].value_counts(ascending=True)\n",
    "print(tag_count)\n",
    "conteo_pares = df.groupby(['Group','User','Level']).size().reset_index(name='conteo')\n",
    "conteo_pares.sort_values(by='conteo',ascending=True)\n",
    "print(conteo_pares.sort_values(by='conteo',ascending=True))"
   ]
  },
  {
   "cell_type": "code",
   "execution_count": 5,
   "metadata": {},
   "outputs": [
    {
     "name": "stdout",
     "output_type": "stream",
     "text": [
      "         Competence TypeTag  Tag         Game          User  SequenceOrder  \\\n",
      "14         rotation  Global    4  Shadowspect        redbed             20   \n",
      "15  cam_perspective  Global    3  Shadowspect        redbed             20   \n",
      "16        snapshots  Global    4  Shadowspect        redbed             20   \n",
      "17      prim_shapes  Global    0  Shadowspect        redbed             20   \n",
      "18     scale_shapes  Global    0  Shadowspect        redbed             20   \n",
      "19    locate_shapes  Global    4  Shadowspect        redbed             20   \n",
      "20       action_seq  Global    4  Shadowspect        redbed             20   \n",
      "42         rotation  Global    4  Shadowspect  Water_Bottle             17   \n",
      "43  cam_perspective  Global    3  Shadowspect  Water_Bottle             17   \n",
      "44        snapshots  Global    4  Shadowspect  Water_Bottle             17   \n",
      "45      prim_shapes  Global    0  Shadowspect  Water_Bottle             17   \n",
      "46     scale_shapes  Global    0  Shadowspect  Water_Bottle             17   \n",
      "47    locate_shapes  Global    4  Shadowspect  Water_Bottle             17   \n",
      "48       action_seq  Global    4  Shadowspect  Water_Bottle             17   \n",
      "\n",
      "                  Level  Group                 Replay  \n",
      "14  45-Degree Rotations  VeraD  45-Degree Rotations~1  \n",
      "15  45-Degree Rotations  VeraD  45-Degree Rotations~1  \n",
      "16  45-Degree Rotations  VeraD  45-Degree Rotations~1  \n",
      "17  45-Degree Rotations  VeraD  45-Degree Rotations~1  \n",
      "18  45-Degree Rotations  VeraD  45-Degree Rotations~1  \n",
      "19  45-Degree Rotations  VeraD  45-Degree Rotations~1  \n",
      "20  45-Degree Rotations  VeraD  45-Degree Rotations~1  \n",
      "42  45-Degree Rotations  VeraD  45-Degree Rotations~1  \n",
      "43  45-Degree Rotations  VeraD  45-Degree Rotations~1  \n",
      "44  45-Degree Rotations  VeraD  45-Degree Rotations~1  \n",
      "45  45-Degree Rotations  VeraD  45-Degree Rotations~1  \n",
      "46  45-Degree Rotations  VeraD  45-Degree Rotations~1  \n",
      "47  45-Degree Rotations  VeraD  45-Degree Rotations~1  \n",
      "48  45-Degree Rotations  VeraD  45-Degree Rotations~1  \n"
     ]
    }
   ],
   "source": [
    "filas_error = df.loc[(df['Group'] == 'VeraD') & (df['Level']== '45-Degree Rotations')]\n",
    "print(filas_error)"
   ]
  }
 ],
 "metadata": {
  "kernelspec": {
   "display_name": "base",
   "language": "python",
   "name": "python3"
  },
  "language_info": {
   "codemirror_mode": {
    "name": "ipython",
    "version": 3
   },
   "file_extension": ".py",
   "mimetype": "text/x-python",
   "name": "python",
   "nbconvert_exporter": "python",
   "pygments_lexer": "ipython3",
   "version": "3.11.5"
  }
 },
 "nbformat": 4,
 "nbformat_minor": 2
}
