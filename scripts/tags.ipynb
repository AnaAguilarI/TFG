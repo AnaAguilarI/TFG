{
 "cells": [
  {
   "cell_type": "code",
   "execution_count": 1,
   "metadata": {},
   "outputs": [],
   "source": [
    "import pandas as pd\n",
    "\n",
    "df = pd.read_csv('spatial_reasoning/05-07-labels.csv')\n",
    "# Eliminamos las columnas de los timestamps\n",
    "df = df.dropna(axis=1, how='all')"
   ]
  },
  {
   "cell_type": "code",
   "execution_count": 2,
   "metadata": {},
   "outputs": [
    {
     "name": "stdout",
     "output_type": "stream",
     "text": [
      "Competence\n",
      "prim_shapes        170\n",
      "scale_shapes       170\n",
      "snapshots          170\n",
      "cam_perspective    170\n",
      "action_seq         170\n",
      "rotation           170\n",
      "locate_shapes      170\n",
      "Name: count, dtype: int64\n",
      "                                Group                              User  \\\n",
      "0    4fe25833f555e9903d2bb6bbeec3fbfb  2085341eede3ffb7e2ffc72bbf0ae02b   \n",
      "105  e6af7d42084352a39449e6d0a09b18cd  5e28d61160368358430cfe1efe123aa9   \n",
      "106  e6af7d42084352a39449e6d0a09b18cd  5e28d61160368358430cfe1efe123aa9   \n",
      "107  e6af7d42084352a39449e6d0a09b18cd  5e28d61160368358430cfe1efe123aa9   \n",
      "108  e6af7d42084352a39449e6d0a09b18cd  5e28d61160368358430cfe1efe123aa9   \n",
      "..                                ...                               ...   \n",
      "141  e6af7d42084352a39449e6d0a09b18cd  be92bec7a507e83c33700633c0a59255   \n",
      "71                              VeraD                            redbed   \n",
      "72                              VeraD                            redbed   \n",
      "73                              VeraD                            redbed   \n",
      "98   e6af7d42084352a39449e6d0a09b18cd  2f0ac5ad17c9aa0ab1a3a01e8fea4ea8   \n",
      "\n",
      "                    Level  conteo  \n",
      "0     45-Degree Rotations       7  \n",
      "105     Angled Silhouette       7  \n",
      "106              Bird Fez       7  \n",
      "107              Pi Henge       7  \n",
      "108  Pyramids are Strange       7  \n",
      "..                    ...     ...  \n",
      "141              Pi Henge      14  \n",
      "71    45-Degree Rotations      14  \n",
      "72               Bird Fez      14  \n",
      "73               Pi Henge      14  \n",
      "98   Pyramids are Strange      14  \n",
      "\n",
      "[165 rows x 4 columns]\n"
     ]
    }
   ],
   "source": [
    "#Contamos cuántas veces aparece cada etiqueta\n",
    "tag_count = df['Competence'].value_counts(ascending=True)\n",
    "print(tag_count)\n",
    "conteo_pares = df.groupby(['Group','User','Level']).size().reset_index(name='conteo')\n",
    "conteo_pares.sort_values(by='conteo',ascending=True)\n",
    "print(conteo_pares.sort_values(by='conteo',ascending=True))"
   ]
  },
  {
   "cell_type": "code",
   "execution_count": null,
   "metadata": {},
   "outputs": [],
   "source": [
    "filas_error = df.loc[(df['Group'] == 'VeraD') & (df['Level']== '45-Degree Rotations')]\n",
    "print(filas_error)"
   ]
  }
 ],
 "metadata": {
  "kernelspec": {
   "display_name": "base",
   "language": "python",
   "name": "python3"
  },
  "language_info": {
   "codemirror_mode": {
    "name": "ipython",
    "version": 3
   },
   "file_extension": ".py",
   "mimetype": "text/x-python",
   "name": "python",
   "nbconvert_exporter": "python",
   "pygments_lexer": "ipython3",
   "version": "3.11.5"
  }
 },
 "nbformat": 4,
 "nbformat_minor": 2
}
